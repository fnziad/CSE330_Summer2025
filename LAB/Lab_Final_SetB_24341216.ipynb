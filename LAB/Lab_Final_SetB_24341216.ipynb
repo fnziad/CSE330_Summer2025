{
  "nbformat": 4,
  "nbformat_minor": 0,
  "metadata": {
    "colab": {
      "provenance": []
    },
    "kernelspec": {
      "name": "python3",
      "display_name": "Python 3"
    },
    "language_info": {
      "name": "python"
    }
  },
  "cells": [
    {
      "cell_type": "code",
      "execution_count": null,
      "metadata": {
        "id": "8RsvtgyIbpy7"
      },
      "outputs": [],
      "source": [
        "import matplotlib.pyplot as plt\n",
        "import numpy as np\n",
        "from numpy.polynomial import Polynomial"
      ]
    },
    {
      "cell_type": "markdown",
      "source": [
        "# Question 01 [2+2+2 marks]\n",
        "\n",
        "Let $f(x)$ be a function of $x$.\n",
        "\n",
        "$$f(x) = x^5 + 2.5x^4 - 2x^3 -6x^2 + 6x^4 + 2\\tag{1.1}$$\n",
        "\n",
        "a) Represent the given **polynomial** using **Polynomial class of Numpy library**. Print the Polynomial equation and calculate the value of f(x) at x =4.5.\n",
        "\n",
        "b) What will be the value of $\\frac{2.5f^{\\prime}(y)-6f^{\\prime}(x)}{4f(x/2)} $ where the value of x = 4, y = 7 and h=0.15?\n",
        "\n",
        "**Note that you have to use the central differentiation formula to find out the derivatives**\n",
        "\n",
        "c) **Plot** the polynomial for the range **$-1.5 \\le x \\le7$**\n"
      ],
      "metadata": {
        "id": "nM8mZ1ttwPa7"
      }
    },
    {
      "cell_type": "code",
      "source": [
        "#Solution to (a)\n",
        "coeff=np.array([2,6,-6,-2,2.5,1])\n",
        "p=Polynomial(coeff)\n",
        "print(p)\n",
        "print(\"the value of f(x) at x=4.5 is \", p(4.5))"
      ],
      "metadata": {
        "id": "uBimZwY_2jsp",
        "colab": {
          "base_uri": "https://localhost:8080/"
        },
        "outputId": "f5372228-5813-4085-db15-746028fbd362"
      },
      "execution_count": null,
      "outputs": [
        {
          "output_type": "stream",
          "name": "stdout",
          "text": [
            "2.0 + 6.0·x - 6.0·x² - 2.0·x³ + 2.5·x⁴ + 1.0·x⁵\n",
            "the value of f(x) at x=4.5 is  2595.6875\n"
          ]
        }
      ]
    },
    {
      "cell_type": "code",
      "source": [
        "#Solution to (b)\n",
        "#Solution to (b)\n",
        "def cd(f,x,h):\n",
        "  return ((f(x+h) - f(x-h))/(h**2))\n",
        "\n",
        "\n",
        "x,y,h= 4, 7, 0.15\n",
        "p_m=p.deriv(1)\n",
        "print(cd(p,x,h))\n",
        "print(\"val=\", (2.5*cd(p,y,h)-6*cd(p,x,h))/(4*cd(p,x/2,h)))\n",
        "print(\"The actual is\", ((2.5*p_m(y))-(6*p_m(x))/(4*p_m(x/2))))"
      ],
      "metadata": {
        "id": "QWxGo0ZFwJk1",
        "colab": {
          "base_uri": "https://localhost:8080/"
        },
        "outputId": "56212327-d8d6-46eb-dc4e-c8626ee0839d"
      },
      "execution_count": null,
      "outputs": [
        {
          "output_type": "stream",
          "name": "stdout",
          "text": [
            "23819.406750000035\n",
            "val= 56.51490148243904\n",
            "The actual is 37634.84745762712\n"
          ]
        }
      ]
    },
    {
      "cell_type": "code",
      "source": [
        "x_arr=np.linspace(-1.5,7,100)\n",
        "y_arr=p(x_arr)\n",
        "plt.plot(x_arr, y_arr)\n",
        "plt.show"
      ],
      "metadata": {
        "id": "ny7R-T1J4E_k",
        "colab": {
          "base_uri": "https://localhost:8080/",
          "height": 600
        },
        "outputId": "3e81cc7a-a7b2-45ab-ba44-1081b4a4d3a1"
      },
      "execution_count": null,
      "outputs": [
        {
          "output_type": "execute_result",
          "data": {
            "text/plain": [
              "<function matplotlib.pyplot.show(close=None, block=None)>"
            ],
            "text/html": [
              "<div style=\"max-width:800px; border: 1px solid var(--colab-border-color);\"><style>\n",
              "      pre.function-repr-contents {\n",
              "        overflow-x: auto;\n",
              "        padding: 8px 12px;\n",
              "        max-height: 500px;\n",
              "      }\n",
              "\n",
              "      pre.function-repr-contents.function-repr-contents-collapsed {\n",
              "        cursor: pointer;\n",
              "        max-height: 100px;\n",
              "      }\n",
              "    </style>\n",
              "    <pre style=\"white-space: initial; background:\n",
              "         var(--colab-secondary-surface-color); padding: 8px 12px;\n",
              "         border-bottom: 1px solid var(--colab-border-color);\"><b>matplotlib.pyplot.show</b><br/>def show(*args, **kwargs) -&gt; None</pre><pre class=\"function-repr-contents function-repr-contents-collapsed\" style=\"\"><a class=\"filepath\" style=\"display:none\" href=\"#\">/usr/local/lib/python3.12/dist-packages/matplotlib/pyplot.py</a>Display all open figures.\n",
              "\n",
              "Parameters\n",
              "----------\n",
              "block : bool, optional\n",
              "    Whether to wait for all figures to be closed before returning.\n",
              "\n",
              "    If `True` block and run the GUI main loop until all figure windows\n",
              "    are closed.\n",
              "\n",
              "    If `False` ensure that all figure windows are displayed and return\n",
              "    immediately.  In this case, you are responsible for ensuring\n",
              "    that the event loop is running to have responsive figures.\n",
              "\n",
              "    Defaults to True in non-interactive mode and to False in interactive\n",
              "    mode (see `.pyplot.isinteractive`).\n",
              "\n",
              "See Also\n",
              "--------\n",
              "ion : Enable interactive mode, which shows / updates the figure after\n",
              "      every plotting command, so that calling ``show()`` is not necessary.\n",
              "ioff : Disable interactive mode.\n",
              "savefig : Save the figure to an image file instead of showing it on screen.\n",
              "\n",
              "Notes\n",
              "-----\n",
              "**Saving figures to file and showing a window at the same time**\n",
              "\n",
              "If you want an image file as well as a user interface window, use\n",
              "`.pyplot.savefig` before `.pyplot.show`. At the end of (a blocking)\n",
              "``show()`` the figure is closed and thus unregistered from pyplot. Calling\n",
              "`.pyplot.savefig` afterwards would save a new and thus empty figure. This\n",
              "limitation of command order does not apply if the show is non-blocking or\n",
              "if you keep a reference to the figure and use `.Figure.savefig`.\n",
              "\n",
              "**Auto-show in jupyter notebooks**\n",
              "\n",
              "The jupyter backends (activated via ``%matplotlib inline``,\n",
              "``%matplotlib notebook``, or ``%matplotlib widget``), call ``show()`` at\n",
              "the end of every cell by default. Thus, you usually don&#x27;t have to call it\n",
              "explicitly there.</pre>\n",
              "      <script>\n",
              "      if (google.colab.kernel.accessAllowed && google.colab.files && google.colab.files.view) {\n",
              "        for (const element of document.querySelectorAll('.filepath')) {\n",
              "          element.style.display = 'block'\n",
              "          element.onclick = (event) => {\n",
              "            event.preventDefault();\n",
              "            event.stopPropagation();\n",
              "            google.colab.files.view(element.textContent, 569);\n",
              "          };\n",
              "        }\n",
              "      }\n",
              "      for (const element of document.querySelectorAll('.function-repr-contents')) {\n",
              "        element.onclick = (event) => {\n",
              "          event.preventDefault();\n",
              "          event.stopPropagation();\n",
              "          element.classList.toggle('function-repr-contents-collapsed');\n",
              "        };\n",
              "      }\n",
              "      </script>\n",
              "      </div>"
            ]
          },
          "metadata": {},
          "execution_count": 14
        },
        {
          "output_type": "display_data",
          "data": {
            "text/plain": [
              "<Figure size 640x480 with 1 Axes>"
            ],
            "image/png": "[encoded data removed]"
          },
          "metadata": {}
        }
      ]
    },
    {
      "cell_type": "markdown",
      "source": [
        "## Question 2 **[3 + 3 marks]**\n",
        "\n",
        "\n",
        "In Vandermonde matrix, the equation can be written as  $$\\mathbf{Xa = y},$$\n",
        "where in class we constructed, $\\mathbf{X} = $\n",
        "\n",
        "\\begin{bmatrix}\n",
        "x_0^0 & x_0^1 & \\cdots & x_0^{n-1}  & x_0^n\\\\\n",
        "x_1^0 & x_1^1 & \\cdots & x_1^{n-1} & x_1^n\\\\\n",
        "\\vdots & \\vdots & \\ddots & \\vdots & \\vdots\\\\\n",
        "x_{n-1}^0 & x_{n-1}^1 & \\cdots & x_{n-1}^{n-1}  & x_{n-1}^n\\\\\n",
        "x_n^0 & x_{n}^1 & \\cdots & x_n^{n-1} & x_n^n\\\\\n",
        "\\end{bmatrix}\n",
        "\n",
        "\n",
        "**Now you have to implement the following matrix**\n",
        "\n",
        "$\\mathbf{X_{new}} = $\n",
        "\\begin{bmatrix}\n",
        "x_n^n & x_{n-1}^{n} & \\cdots & x_1^{n} & x_0^n\\\\\n",
        "x_{n}^{n-1} & x_{n-1}^{n-1} & \\cdots & x_{1}^{n-1} & x_{0}^{n-1}\\\\\n",
        "\\vdots & \\vdots & \\ddots & \\vdots & \\vdots\\\\\n",
        "x_{n}^{1} & x_{n-1}^{1} & \\cdots & x_1^{1} & x_0^{1}\\\\\n",
        "x_{n}^{0} & x_{n-1}^{0} & \\cdots & x_1^{0} & x_0^{0}\\\\\n",
        "\\end{bmatrix}\n",
        "\n",
        "Write a **function** that takes **data_x** as parameter and populates the **$X_{new}$** matrix. Use **(2,3), (4,5), (3,7), (5,2)** data points. Print the matrix, **$X_{new}$** from the given data.\n",
        "\n",
        "\n",
        "Next, take the **diagonal** elements of your Vandermonde matrix to be the coefficients of an n-degree Polynomial. Consider element with index [0,0] to be the **last coefficient** and with index [n,n] to be the **first coefficient**. Print the Polynomial.\n",
        "\n",
        "Hint: Use the Polynomial class of Numpy\n"
      ],
      "metadata": {
        "id": "mlX2aQQAFff-"
      }
    },
    {
      "cell_type": "code",
      "source": [
        "def vandermonde(data_x):\n",
        "  x=data_x\n",
        "  n=len(x)\n",
        "  x_new=np.zeros((n,n))\n",
        "  print(x_new)\n",
        "  for i in range(n):\n",
        "    for j in range(n):\n",
        "      x_new[i,j]=x[(n-1)-i]**((n-1)-j)\n",
        "\n",
        "  return x_new\n",
        "\n",
        "data_x = np.array([2,4,3,5])\n",
        "data_y=np.array([3,5,7,2])\n",
        "x_new = vandermonde(data_x)\n",
        "print(x_new)\n",
        "\n",
        "\n",
        "\n",
        "\n",
        "\n",
        "n=len(data_x)\n",
        "coeff=[]\n",
        "for i in range(n):\n",
        "  for j in range(n):\n",
        "    if i==j:\n",
        "      coeff.append(x_new[((n-1)-i),((n-1)-j)])\n",
        "coeff=np.array(coeff)\n",
        "print(\"coefficients--\",coeff)\n",
        "p=Polynomial(coeff)\n",
        "print(p)\n",
        "#TO_DO\n",
        "#print the polynomial"
      ],
      "metadata": {
        "id": "3iqnyAF1jMRQ",
        "colab": {
          "base_uri": "https://localhost:8080/"
        },
        "outputId": "8215f4fc-e47e-42b7-a955-1b4b5abe6846"
      },
      "execution_count": null,
      "outputs": [
        {
          "output_type": "stream",
          "name": "stdout",
          "text": [
            "[[0. 0. 0. 0.]\n",
            " [0. 0. 0. 0.]\n",
            " [0. 0. 0. 0.]\n",
            " [0. 0. 0. 0.]]\n",
            "[[125.  25.   5.   1.]\n",
            " [ 27.   9.   3.   1.]\n",
            " [ 64.  16.   4.   1.]\n",
            " [  8.   4.   2.   1.]]\n",
            "coefficients-- [  1.   4.   9. 125.]\n",
            "1.0 + 4.0·x + 9.0·x² + 125.0·x³\n"
          ]
        }
      ]
    },
    {
      "cell_type": "markdown",
      "source": [
        "## Question 03 [8 Marks]\n",
        "\n",
        "\n",
        "Suppose there is a function, $$ f(x) = 2x^4 + 8x^2 - 7x + 3$$\n",
        "\n",
        "To analyze the behavior of the Absolute Error when approximating the derivative of the function at **$ x = 5 $** using **Forward Difference**, you have to **determine the minimum value of h** that ensures the absolute error stays below a given **tolerance threshold of 0.002463**. Additionally, **calculate how many reductions of $ℎ$** are required to meet this condition.\n",
        "\n",
        "As you already know,\n",
        "1. Forward Difference, $f^\\prime(x) = \\frac{f(x+h)-f(x)}{h}$\n",
        "2. Absolute error = |Actual derivative - Approximate derivative|\n",
        "\n",
        "You should start with an **initial step size of $ℎ = 1.75$** and iteratively **reduce $ℎ$ by one-fourth**, if necessary, until the error condition is satisfied.\n",
        "\n",
        "**Hint:** You have to use **Polynomial class** from the **numpy** library to define the function, $f(x)$ and Your output should clearly state the **minimum $ℎ$** and the **total number of reductions** required to achieve the desired accuracy.\n"
      ],
      "metadata": {
        "id": "Z4_c3x5dY5J9"
      }
    },
    {
      "cell_type": "code",
      "source": [
        "coef=np.array([3,-7,8,2])\n",
        "h=1.75\n",
        "pf=Polynomial(coef)\n",
        "\n",
        "def fd(f,x,h):\n",
        "\n",
        "  fp=((f(x+h)-f(x))/(h))\n",
        "  return fp\n",
        "\n",
        "\n",
        "act=pf.deriv(1)(5)\n",
        "i=0\n",
        "error=abs(act-fd(pf,5,h))\n",
        "while error>0.002463:\n",
        " i+=1\n",
        " h=h*0.25\n",
        " error=abs(act-fd(pf,5,h))\n",
        " print(error)\n",
        "\n",
        "\n",
        "print(i,h)\n",
        "\n"
      ],
      "metadata": {
        "id": "pkPXp9yXbES2",
        "colab": {
          "base_uri": "https://localhost:8080/"
        },
        "outputId": "da6bed55-e913-4b92-a652-59de0131a1f5"
      },
      "execution_count": null,
      "outputs": [
        {
          "output_type": "stream",
          "name": "stdout",
          "text": [
            "17.0078125\n",
            "4.18017578125\n",
            "1.040557861328125\n",
            "0.2598590850830078\n",
            "0.06494724750518799\n",
            "0.01623571664094925\n",
            "0.0040588607745633\n",
            "0.001014711601385443\n",
            "8 2.6702880859375e-05\n"
          ]
        }
      ]
    }
  ]
}